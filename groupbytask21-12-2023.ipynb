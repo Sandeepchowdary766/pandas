{
 "cells": [
  {
   "cell_type": "code",
   "execution_count": 2,
   "id": "a3cc2c55",
   "metadata": {},
   "outputs": [],
   "source": [
    "import numpy as np,pandas as pd"
   ]
  },
  {
   "cell_type": "code",
   "execution_count": 28,
   "id": "c8db7e99",
   "metadata": {},
   "outputs": [
    {
     "data": {
      "text/html": [
       "<div>\n",
       "<style scoped>\n",
       "    .dataframe tbody tr th:only-of-type {\n",
       "        vertical-align: middle;\n",
       "    }\n",
       "\n",
       "    .dataframe tbody tr th {\n",
       "        vertical-align: top;\n",
       "    }\n",
       "\n",
       "    .dataframe thead th {\n",
       "        text-align: right;\n",
       "    }\n",
       "</style>\n",
       "<table border=\"1\" class=\"dataframe\">\n",
       "  <thead>\n",
       "    <tr style=\"text-align: right;\">\n",
       "      <th></th>\n",
       "      <th>Unnamed: 0</th>\n",
       "      <th>Date</th>\n",
       "      <th>Product</th>\n",
       "      <th>Revenue</th>\n",
       "      <th>Quantity</th>\n",
       "    </tr>\n",
       "  </thead>\n",
       "  <tbody>\n",
       "    <tr>\n",
       "      <th>0</th>\n",
       "      <td>0</td>\n",
       "      <td>01-01-2023</td>\n",
       "      <td>A</td>\n",
       "      <td>221</td>\n",
       "      <td>3</td>\n",
       "    </tr>\n",
       "    <tr>\n",
       "      <th>1</th>\n",
       "      <td>1</td>\n",
       "      <td>01-01-2023</td>\n",
       "      <td>B</td>\n",
       "      <td>111</td>\n",
       "      <td>8</td>\n",
       "    </tr>\n",
       "    <tr>\n",
       "      <th>2</th>\n",
       "      <td>2</td>\n",
       "      <td>02-01-2023</td>\n",
       "      <td>B</td>\n",
       "      <td>171</td>\n",
       "      <td>11</td>\n",
       "    </tr>\n",
       "    <tr>\n",
       "      <th>3</th>\n",
       "      <td>3</td>\n",
       "      <td>02-01-2023</td>\n",
       "      <td>A</td>\n",
       "      <td>141</td>\n",
       "      <td>15</td>\n",
       "    </tr>\n",
       "    <tr>\n",
       "      <th>4</th>\n",
       "      <td>4</td>\n",
       "      <td>01-02-2023</td>\n",
       "      <td>A</td>\n",
       "      <td>75</td>\n",
       "      <td>4</td>\n",
       "    </tr>\n",
       "    <tr>\n",
       "      <th>5</th>\n",
       "      <td>5</td>\n",
       "      <td>01-02-2023</td>\n",
       "      <td>B</td>\n",
       "      <td>90</td>\n",
       "      <td>12</td>\n",
       "    </tr>\n",
       "    <tr>\n",
       "      <th>6</th>\n",
       "      <td>6</td>\n",
       "      <td>02-02-2023</td>\n",
       "      <td>A</td>\n",
       "      <td>96</td>\n",
       "      <td>17</td>\n",
       "    </tr>\n",
       "    <tr>\n",
       "      <th>7</th>\n",
       "      <td>7</td>\n",
       "      <td>02-02-2023</td>\n",
       "      <td>B</td>\n",
       "      <td>170</td>\n",
       "      <td>10</td>\n",
       "    </tr>\n",
       "    <tr>\n",
       "      <th>8</th>\n",
       "      <td>8</td>\n",
       "      <td>01-03-2023</td>\n",
       "      <td>B</td>\n",
       "      <td>200</td>\n",
       "      <td>19</td>\n",
       "    </tr>\n",
       "    <tr>\n",
       "      <th>9</th>\n",
       "      <td>9</td>\n",
       "      <td>01-03-2023</td>\n",
       "      <td>A</td>\n",
       "      <td>120</td>\n",
       "      <td>10</td>\n",
       "    </tr>\n",
       "    <tr>\n",
       "      <th>10</th>\n",
       "      <td>10</td>\n",
       "      <td>02-03-2023</td>\n",
       "      <td>A</td>\n",
       "      <td>121</td>\n",
       "      <td>12</td>\n",
       "    </tr>\n",
       "    <tr>\n",
       "      <th>11</th>\n",
       "      <td>11</td>\n",
       "      <td>02-03-2023</td>\n",
       "      <td>B</td>\n",
       "      <td>150</td>\n",
       "      <td>5</td>\n",
       "    </tr>\n",
       "  </tbody>\n",
       "</table>\n",
       "</div>"
      ],
      "text/plain": [
       "    Unnamed: 0        Date Product  Revenue  Quantity\n",
       "0            0  01-01-2023       A      221         3\n",
       "1            1  01-01-2023       B      111         8\n",
       "2            2  02-01-2023       B      171        11\n",
       "3            3  02-01-2023       A      141        15\n",
       "4            4  01-02-2023       A       75         4\n",
       "5            5  01-02-2023       B       90        12\n",
       "6            6  02-02-2023       A       96        17\n",
       "7            7  02-02-2023       B      170        10\n",
       "8            8  01-03-2023       B      200        19\n",
       "9            9  01-03-2023       A      120        10\n",
       "10          10  02-03-2023       A      121        12\n",
       "11          11  02-03-2023       B      150         5"
      ]
     },
     "execution_count": 28,
     "metadata": {},
     "output_type": "execute_result"
    }
   ],
   "source": [
    "a=pd.read_csv(r\"C:\\pandas files\\groupbyExcercise.csv\")\n",
    "a"
   ]
  },
  {
   "cell_type": "code",
   "execution_count": 29,
   "id": "3ec98138",
   "metadata": {},
   "outputs": [
    {
     "data": {
      "text/html": [
       "<div>\n",
       "<style scoped>\n",
       "    .dataframe tbody tr th:only-of-type {\n",
       "        vertical-align: middle;\n",
       "    }\n",
       "\n",
       "    .dataframe tbody tr th {\n",
       "        vertical-align: top;\n",
       "    }\n",
       "\n",
       "    .dataframe thead th {\n",
       "        text-align: right;\n",
       "    }\n",
       "</style>\n",
       "<table border=\"1\" class=\"dataframe\">\n",
       "  <thead>\n",
       "    <tr style=\"text-align: right;\">\n",
       "      <th></th>\n",
       "      <th>Date</th>\n",
       "      <th>Product</th>\n",
       "      <th>Revenue</th>\n",
       "      <th>Quantity</th>\n",
       "    </tr>\n",
       "  </thead>\n",
       "  <tbody>\n",
       "    <tr>\n",
       "      <th>0</th>\n",
       "      <td>01-01-2023</td>\n",
       "      <td>A</td>\n",
       "      <td>221</td>\n",
       "      <td>3</td>\n",
       "    </tr>\n",
       "    <tr>\n",
       "      <th>1</th>\n",
       "      <td>01-01-2023</td>\n",
       "      <td>B</td>\n",
       "      <td>111</td>\n",
       "      <td>8</td>\n",
       "    </tr>\n",
       "    <tr>\n",
       "      <th>2</th>\n",
       "      <td>02-01-2023</td>\n",
       "      <td>B</td>\n",
       "      <td>171</td>\n",
       "      <td>11</td>\n",
       "    </tr>\n",
       "    <tr>\n",
       "      <th>3</th>\n",
       "      <td>02-01-2023</td>\n",
       "      <td>A</td>\n",
       "      <td>141</td>\n",
       "      <td>15</td>\n",
       "    </tr>\n",
       "    <tr>\n",
       "      <th>4</th>\n",
       "      <td>01-02-2023</td>\n",
       "      <td>A</td>\n",
       "      <td>75</td>\n",
       "      <td>4</td>\n",
       "    </tr>\n",
       "    <tr>\n",
       "      <th>5</th>\n",
       "      <td>01-02-2023</td>\n",
       "      <td>B</td>\n",
       "      <td>90</td>\n",
       "      <td>12</td>\n",
       "    </tr>\n",
       "    <tr>\n",
       "      <th>6</th>\n",
       "      <td>02-02-2023</td>\n",
       "      <td>A</td>\n",
       "      <td>96</td>\n",
       "      <td>17</td>\n",
       "    </tr>\n",
       "    <tr>\n",
       "      <th>7</th>\n",
       "      <td>02-02-2023</td>\n",
       "      <td>B</td>\n",
       "      <td>170</td>\n",
       "      <td>10</td>\n",
       "    </tr>\n",
       "    <tr>\n",
       "      <th>8</th>\n",
       "      <td>01-03-2023</td>\n",
       "      <td>B</td>\n",
       "      <td>200</td>\n",
       "      <td>19</td>\n",
       "    </tr>\n",
       "    <tr>\n",
       "      <th>9</th>\n",
       "      <td>01-03-2023</td>\n",
       "      <td>A</td>\n",
       "      <td>120</td>\n",
       "      <td>10</td>\n",
       "    </tr>\n",
       "    <tr>\n",
       "      <th>10</th>\n",
       "      <td>02-03-2023</td>\n",
       "      <td>A</td>\n",
       "      <td>121</td>\n",
       "      <td>12</td>\n",
       "    </tr>\n",
       "    <tr>\n",
       "      <th>11</th>\n",
       "      <td>02-03-2023</td>\n",
       "      <td>B</td>\n",
       "      <td>150</td>\n",
       "      <td>5</td>\n",
       "    </tr>\n",
       "  </tbody>\n",
       "</table>\n",
       "</div>"
      ],
      "text/plain": [
       "          Date Product  Revenue  Quantity\n",
       "0   01-01-2023       A      221         3\n",
       "1   01-01-2023       B      111         8\n",
       "2   02-01-2023       B      171        11\n",
       "3   02-01-2023       A      141        15\n",
       "4   01-02-2023       A       75         4\n",
       "5   01-02-2023       B       90        12\n",
       "6   02-02-2023       A       96        17\n",
       "7   02-02-2023       B      170        10\n",
       "8   01-03-2023       B      200        19\n",
       "9   01-03-2023       A      120        10\n",
       "10  02-03-2023       A      121        12\n",
       "11  02-03-2023       B      150         5"
      ]
     },
     "execution_count": 29,
     "metadata": {},
     "output_type": "execute_result"
    }
   ],
   "source": [
    "a.drop(columns=['Unnamed: 0'],inplace=True)\n",
    "a"
   ]
  },
  {
   "cell_type": "code",
   "execution_count": 30,
   "id": "a644eedc",
   "metadata": {},
   "outputs": [
    {
     "name": "stdout",
     "output_type": "stream",
     "text": [
      "<class 'pandas.core.frame.DataFrame'>\n",
      "RangeIndex: 12 entries, 0 to 11\n",
      "Data columns (total 4 columns):\n",
      " #   Column    Non-Null Count  Dtype \n",
      "---  ------    --------------  ----- \n",
      " 0   Date      12 non-null     object\n",
      " 1   Product   12 non-null     object\n",
      " 2   Revenue   12 non-null     int64 \n",
      " 3   Quantity  12 non-null     int64 \n",
      "dtypes: int64(2), object(2)\n",
      "memory usage: 516.0+ bytes\n"
     ]
    }
   ],
   "source": [
    "a.info()"
   ]
  },
  {
   "cell_type": "code",
   "execution_count": 31,
   "id": "422391dc",
   "metadata": {},
   "outputs": [
    {
     "data": {
      "text/html": [
       "<div>\n",
       "<style scoped>\n",
       "    .dataframe tbody tr th:only-of-type {\n",
       "        vertical-align: middle;\n",
       "    }\n",
       "\n",
       "    .dataframe tbody tr th {\n",
       "        vertical-align: top;\n",
       "    }\n",
       "\n",
       "    .dataframe thead th {\n",
       "        text-align: right;\n",
       "    }\n",
       "</style>\n",
       "<table border=\"1\" class=\"dataframe\">\n",
       "  <thead>\n",
       "    <tr style=\"text-align: right;\">\n",
       "      <th></th>\n",
       "      <th>count</th>\n",
       "      <th>mean</th>\n",
       "      <th>std</th>\n",
       "      <th>min</th>\n",
       "      <th>25%</th>\n",
       "      <th>50%</th>\n",
       "      <th>75%</th>\n",
       "      <th>max</th>\n",
       "    </tr>\n",
       "  </thead>\n",
       "  <tbody>\n",
       "    <tr>\n",
       "      <th>Revenue</th>\n",
       "      <td>12.0</td>\n",
       "      <td>138.833333</td>\n",
       "      <td>45.095522</td>\n",
       "      <td>75.0</td>\n",
       "      <td>107.25</td>\n",
       "      <td>131.0</td>\n",
       "      <td>170.25</td>\n",
       "      <td>221.0</td>\n",
       "    </tr>\n",
       "    <tr>\n",
       "      <th>Quantity</th>\n",
       "      <td>12.0</td>\n",
       "      <td>10.500000</td>\n",
       "      <td>5.000000</td>\n",
       "      <td>3.0</td>\n",
       "      <td>7.25</td>\n",
       "      <td>10.5</td>\n",
       "      <td>12.75</td>\n",
       "      <td>19.0</td>\n",
       "    </tr>\n",
       "  </tbody>\n",
       "</table>\n",
       "</div>"
      ],
      "text/plain": [
       "          count        mean        std   min     25%    50%     75%    max\n",
       "Revenue    12.0  138.833333  45.095522  75.0  107.25  131.0  170.25  221.0\n",
       "Quantity   12.0   10.500000   5.000000   3.0    7.25   10.5   12.75   19.0"
      ]
     },
     "execution_count": 31,
     "metadata": {},
     "output_type": "execute_result"
    }
   ],
   "source": [
    "a.describe().T"
   ]
  },
  {
   "cell_type": "markdown",
   "id": "f2c1f4fc",
   "metadata": {},
   "source": [
    "#### Arrange DataFrame df, focusing on distinct product categories. Explore the data           to reveal:\n",
    "* Overall revenue insights\n",
    "* Average revenue patterns\n",
    "* Peak quantity sold observations\n",
    "* Minimum quantity sold occurrences\n"
   ]
  },
  {
   "cell_type": "code",
   "execution_count": 32,
   "id": "75bf08dc",
   "metadata": {},
   "outputs": [
    {
     "data": {
      "text/plain": [
       "1666"
      ]
     },
     "execution_count": 32,
     "metadata": {},
     "output_type": "execute_result"
    }
   ],
   "source": [
    "a['Revenue'].sum()"
   ]
  },
  {
   "cell_type": "code",
   "execution_count": 33,
   "id": "148f8867",
   "metadata": {},
   "outputs": [
    {
     "data": {
      "text/plain": [
       "Product\n",
       "A    774\n",
       "B    892\n",
       "Name: Revenue, dtype: int64"
      ]
     },
     "execution_count": 33,
     "metadata": {},
     "output_type": "execute_result"
    }
   ],
   "source": [
    "a.groupby(['Product'])['Revenue'].agg((np.sum))"
   ]
  },
  {
   "cell_type": "code",
   "execution_count": 34,
   "id": "f718e0c2",
   "metadata": {},
   "outputs": [
    {
     "data": {
      "text/plain": [
       "Product\n",
       "A    129.000000\n",
       "B    148.666667\n",
       "Name: Revenue, dtype: float64"
      ]
     },
     "execution_count": 34,
     "metadata": {},
     "output_type": "execute_result"
    }
   ],
   "source": [
    "a.groupby(['Product'])['Revenue'].agg((np.mean))"
   ]
  },
  {
   "cell_type": "code",
   "execution_count": 35,
   "id": "6fedfba9",
   "metadata": {},
   "outputs": [
    {
     "data": {
      "text/plain": [
       "Product\n",
       "A    221\n",
       "B    200\n",
       "Name: Revenue, dtype: int64"
      ]
     },
     "execution_count": 35,
     "metadata": {},
     "output_type": "execute_result"
    }
   ],
   "source": [
    "a.groupby(['Product'])['Revenue'].agg((np.max))"
   ]
  },
  {
   "cell_type": "code",
   "execution_count": 36,
   "id": "d6f5361b",
   "metadata": {},
   "outputs": [
    {
     "data": {
      "text/plain": [
       "Product\n",
       "A    75\n",
       "B    90\n",
       "Name: Revenue, dtype: int64"
      ]
     },
     "execution_count": 36,
     "metadata": {},
     "output_type": "execute_result"
    }
   ],
   "source": [
    "a.groupby(['Product'])['Revenue'].agg((np.min))"
   ]
  },
  {
   "cell_type": "markdown",
   "id": "8221ee3c",
   "metadata": {},
   "source": [
    "### Aggregate DataFrame df by extracting the month and year from the 'Date' column. Calculate the collective revenue for each unique combination of month and year.\n"
   ]
  },
  {
   "cell_type": "code",
   "execution_count": 92,
   "id": "b2ccd33a",
   "metadata": {},
   "outputs": [
    {
     "data": {
      "text/html": [
       "<div>\n",
       "<style scoped>\n",
       "    .dataframe tbody tr th:only-of-type {\n",
       "        vertical-align: middle;\n",
       "    }\n",
       "\n",
       "    .dataframe tbody tr th {\n",
       "        vertical-align: top;\n",
       "    }\n",
       "\n",
       "    .dataframe thead th {\n",
       "        text-align: right;\n",
       "    }\n",
       "</style>\n",
       "<table border=\"1\" class=\"dataframe\">\n",
       "  <thead>\n",
       "    <tr style=\"text-align: right;\">\n",
       "      <th></th>\n",
       "      <th>Date</th>\n",
       "      <th>Month</th>\n",
       "      <th>Year</th>\n",
       "    </tr>\n",
       "  </thead>\n",
       "  <tbody>\n",
       "    <tr>\n",
       "      <th>0</th>\n",
       "      <td>2023-01-01</td>\n",
       "      <td>1</td>\n",
       "      <td>2023</td>\n",
       "    </tr>\n",
       "    <tr>\n",
       "      <th>1</th>\n",
       "      <td>2023-01-01</td>\n",
       "      <td>1</td>\n",
       "      <td>2023</td>\n",
       "    </tr>\n",
       "    <tr>\n",
       "      <th>2</th>\n",
       "      <td>2023-02-01</td>\n",
       "      <td>2</td>\n",
       "      <td>2023</td>\n",
       "    </tr>\n",
       "    <tr>\n",
       "      <th>3</th>\n",
       "      <td>2023-02-01</td>\n",
       "      <td>2</td>\n",
       "      <td>2023</td>\n",
       "    </tr>\n",
       "    <tr>\n",
       "      <th>4</th>\n",
       "      <td>2023-01-02</td>\n",
       "      <td>1</td>\n",
       "      <td>2023</td>\n",
       "    </tr>\n",
       "    <tr>\n",
       "      <th>5</th>\n",
       "      <td>2023-01-02</td>\n",
       "      <td>1</td>\n",
       "      <td>2023</td>\n",
       "    </tr>\n",
       "    <tr>\n",
       "      <th>6</th>\n",
       "      <td>2023-02-02</td>\n",
       "      <td>2</td>\n",
       "      <td>2023</td>\n",
       "    </tr>\n",
       "    <tr>\n",
       "      <th>7</th>\n",
       "      <td>2023-02-02</td>\n",
       "      <td>2</td>\n",
       "      <td>2023</td>\n",
       "    </tr>\n",
       "    <tr>\n",
       "      <th>8</th>\n",
       "      <td>2023-01-03</td>\n",
       "      <td>1</td>\n",
       "      <td>2023</td>\n",
       "    </tr>\n",
       "    <tr>\n",
       "      <th>9</th>\n",
       "      <td>2023-01-03</td>\n",
       "      <td>1</td>\n",
       "      <td>2023</td>\n",
       "    </tr>\n",
       "    <tr>\n",
       "      <th>10</th>\n",
       "      <td>2023-02-03</td>\n",
       "      <td>2</td>\n",
       "      <td>2023</td>\n",
       "    </tr>\n",
       "    <tr>\n",
       "      <th>11</th>\n",
       "      <td>2023-02-03</td>\n",
       "      <td>2</td>\n",
       "      <td>2023</td>\n",
       "    </tr>\n",
       "  </tbody>\n",
       "</table>\n",
       "</div>"
      ],
      "text/plain": [
       "         Date  Month  Year\n",
       "0  2023-01-01      1  2023\n",
       "1  2023-01-01      1  2023\n",
       "2  2023-02-01      2  2023\n",
       "3  2023-02-01      2  2023\n",
       "4  2023-01-02      1  2023\n",
       "5  2023-01-02      1  2023\n",
       "6  2023-02-02      2  2023\n",
       "7  2023-02-02      2  2023\n",
       "8  2023-01-03      1  2023\n",
       "9  2023-01-03      1  2023\n",
       "10 2023-02-03      2  2023\n",
       "11 2023-02-03      2  2023"
      ]
     },
     "execution_count": 92,
     "metadata": {},
     "output_type": "execute_result"
    }
   ],
   "source": [
    "a['Date'] = pd.to_datetime(a['Date'])\n",
    "a['Month'] = a['Date'].dt.month\n",
    "a['Year'] = a['Date'].dt.year\n",
    "a[['Date','Month','Year']]"
   ]
  },
  {
   "cell_type": "code",
   "execution_count": 93,
   "id": "c75c1022",
   "metadata": {},
   "outputs": [
    {
     "name": "stdout",
     "output_type": "stream",
     "text": [
      "Month  Year\n",
      "1      2023    817\n",
      "2      2023    849\n",
      "Name: Revenue, dtype: int64\n"
     ]
    }
   ],
   "source": [
    "x =a.groupby(['Month', 'Year'])['Revenue'].sum()\n",
    "print(x)"
   ]
  },
  {
   "cell_type": "markdown",
   "id": "c99a30a4",
   "metadata": {},
   "source": [
    "### Group the DataFrame df by the 'Date' column and find the date with the highest total revenue and the date with the highest total quantity sold."
   ]
  },
  {
   "cell_type": "code",
   "execution_count": 49,
   "id": "f2948037",
   "metadata": {},
   "outputs": [
    {
     "data": {
      "text/html": [
       "<div>\n",
       "<style scoped>\n",
       "    .dataframe tbody tr th:only-of-type {\n",
       "        vertical-align: middle;\n",
       "    }\n",
       "\n",
       "    .dataframe tbody tr th {\n",
       "        vertical-align: top;\n",
       "    }\n",
       "\n",
       "    .dataframe thead th {\n",
       "        text-align: right;\n",
       "    }\n",
       "</style>\n",
       "<table border=\"1\" class=\"dataframe\">\n",
       "  <thead>\n",
       "    <tr style=\"text-align: right;\">\n",
       "      <th></th>\n",
       "      <th>Revenue</th>\n",
       "      <th>Quantity</th>\n",
       "    </tr>\n",
       "    <tr>\n",
       "      <th>Date</th>\n",
       "      <th></th>\n",
       "      <th></th>\n",
       "    </tr>\n",
       "  </thead>\n",
       "  <tbody>\n",
       "    <tr>\n",
       "      <th>01-01-2023</th>\n",
       "      <td>332</td>\n",
       "      <td>11</td>\n",
       "    </tr>\n",
       "    <tr>\n",
       "      <th>01-02-2023</th>\n",
       "      <td>165</td>\n",
       "      <td>16</td>\n",
       "    </tr>\n",
       "    <tr>\n",
       "      <th>01-03-2023</th>\n",
       "      <td>320</td>\n",
       "      <td>29</td>\n",
       "    </tr>\n",
       "    <tr>\n",
       "      <th>02-01-2023</th>\n",
       "      <td>312</td>\n",
       "      <td>26</td>\n",
       "    </tr>\n",
       "    <tr>\n",
       "      <th>02-02-2023</th>\n",
       "      <td>266</td>\n",
       "      <td>27</td>\n",
       "    </tr>\n",
       "    <tr>\n",
       "      <th>02-03-2023</th>\n",
       "      <td>271</td>\n",
       "      <td>17</td>\n",
       "    </tr>\n",
       "  </tbody>\n",
       "</table>\n",
       "</div>"
      ],
      "text/plain": [
       "            Revenue  Quantity\n",
       "Date                         \n",
       "01-01-2023      332        11\n",
       "01-02-2023      165        16\n",
       "01-03-2023      320        29\n",
       "02-01-2023      312        26\n",
       "02-02-2023      266        27\n",
       "02-03-2023      271        17"
      ]
     },
     "execution_count": 49,
     "metadata": {},
     "output_type": "execute_result"
    }
   ],
   "source": [
    "a.groupby(['Date'])[['Revenue','Quantity']].sum()"
   ]
  },
  {
   "cell_type": "markdown",
   "id": "3776b870",
   "metadata": {},
   "source": [
    "### Group the DataFrame df by the Date and find products that have a total quantity sold greater than 10 and less than 15 ."
   ]
  },
  {
   "cell_type": "code",
   "execution_count": 70,
   "id": "00f23982",
   "metadata": {},
   "outputs": [
    {
     "name": "stdout",
     "output_type": "stream",
     "text": [
      "Date        Product\n",
      "01-01-2023  A           3\n",
      "            B           8\n",
      "01-02-2023  A           4\n",
      "            B          12\n",
      "01-03-2023  A          10\n",
      "            B          19\n",
      "02-01-2023  A          15\n",
      "            B          11\n",
      "02-02-2023  A          17\n",
      "            B          10\n",
      "02-03-2023  A          12\n",
      "            B           5\n",
      "Name: Quantity, dtype: int64\n"
     ]
    }
   ],
   "source": [
    "c=a.groupby(['Date','Product'])['Quantity'].sum()\n",
    "print(c)"
   ]
  },
  {
   "cell_type": "code",
   "execution_count": 72,
   "id": "4fcaa3ce",
   "metadata": {},
   "outputs": [
    {
     "name": "stdout",
     "output_type": "stream",
     "text": [
      "Date        Product\n",
      "01-02-2023  B          12\n",
      "02-01-2023  B          11\n",
      "02-03-2023  A          12\n",
      "Name: Quantity, dtype: int64\n"
     ]
    }
   ],
   "source": [
    "b=c[(c > 10 )& (c < 15)]\n",
    "print(b)"
   ]
  }
 ],
 "metadata": {
  "kernelspec": {
   "display_name": "Python 3 (ipykernel)",
   "language": "python",
   "name": "python3"
  },
  "language_info": {
   "codemirror_mode": {
    "name": "ipython",
    "version": 3
   },
   "file_extension": ".py",
   "mimetype": "text/x-python",
   "name": "python",
   "nbconvert_exporter": "python",
   "pygments_lexer": "ipython3",
   "version": "3.11.5"
  }
 },
 "nbformat": 4,
 "nbformat_minor": 5
}
