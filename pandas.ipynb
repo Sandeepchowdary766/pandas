{
 "cells": [
  {
   "cell_type": "code",
   "execution_count": 10,
   "id": "b14e11d3",
   "metadata": {},
   "outputs": [],
   "source": [
    "import numpy as np,pandas as pd"
   ]
  },
  {
   "cell_type": "code",
   "execution_count": 11,
   "id": "f1406160",
   "metadata": {},
   "outputs": [
    {
     "data": {
      "text/html": [
       "<div>\n",
       "<style scoped>\n",
       "    .dataframe tbody tr th:only-of-type {\n",
       "        vertical-align: middle;\n",
       "    }\n",
       "\n",
       "    .dataframe tbody tr th {\n",
       "        vertical-align: top;\n",
       "    }\n",
       "\n",
       "    .dataframe thead th {\n",
       "        text-align: right;\n",
       "    }\n",
       "</style>\n",
       "<table border=\"1\" class=\"dataframe\">\n",
       "  <thead>\n",
       "    <tr style=\"text-align: right;\">\n",
       "      <th></th>\n",
       "      <th>productA</th>\n",
       "      <th>productB</th>\n",
       "    </tr>\n",
       "  </thead>\n",
       "  <tbody>\n",
       "    <tr>\n",
       "      <th>0</th>\n",
       "      <td>25</td>\n",
       "      <td>12</td>\n",
       "    </tr>\n",
       "    <tr>\n",
       "      <th>1</th>\n",
       "      <td>35</td>\n",
       "      <td>22</td>\n",
       "    </tr>\n",
       "    <tr>\n",
       "      <th>2</th>\n",
       "      <td>40</td>\n",
       "      <td>32</td>\n",
       "    </tr>\n",
       "    <tr>\n",
       "      <th>3</th>\n",
       "      <td>45</td>\n",
       "      <td>42</td>\n",
       "    </tr>\n",
       "    <tr>\n",
       "      <th>4</th>\n",
       "      <td>25</td>\n",
       "      <td>52</td>\n",
       "    </tr>\n",
       "    <tr>\n",
       "      <th>5</th>\n",
       "      <td>65</td>\n",
       "      <td>22</td>\n",
       "    </tr>\n",
       "    <tr>\n",
       "      <th>6</th>\n",
       "      <td>70</td>\n",
       "      <td>72</td>\n",
       "    </tr>\n",
       "    <tr>\n",
       "      <th>7</th>\n",
       "      <td>40</td>\n",
       "      <td>42</td>\n",
       "    </tr>\n",
       "    <tr>\n",
       "      <th>8</th>\n",
       "      <td>80</td>\n",
       "      <td>32</td>\n",
       "    </tr>\n",
       "    <tr>\n",
       "      <th>9</th>\n",
       "      <td>85</td>\n",
       "      <td>92</td>\n",
       "    </tr>\n",
       "    <tr>\n",
       "      <th>10</th>\n",
       "      <td>35</td>\n",
       "      <td>52</td>\n",
       "    </tr>\n",
       "  </tbody>\n",
       "</table>\n",
       "</div>"
      ],
      "text/plain": [
       "    productA  productB\n",
       "0         25        12\n",
       "1         35        22\n",
       "2         40        32\n",
       "3         45        42\n",
       "4         25        52\n",
       "5         65        22\n",
       "6         70        72\n",
       "7         40        42\n",
       "8         80        32\n",
       "9         85        92\n",
       "10        35        52"
      ]
     },
     "execution_count": 11,
     "metadata": {},
     "output_type": "execute_result"
    }
   ],
   "source": [
    "a=({'productA':(25,35,40,45,25,65,70,40,80,85,35),'productB':(12,22,32,42,52,22,72,42,32,92,52)})\n",
    "x=pd.DataFrame(a)\n",
    "x"
   ]
  },
  {
   "cell_type": "markdown",
   "id": "541c3976",
   "metadata": {},
   "source": [
    "## Measures of Central Tendency:"
   ]
  },
  {
   "cell_type": "markdown",
   "id": "b295c818",
   "metadata": {},
   "source": [
    "1. Calculate the mean sales for Product A and Product B. Compare the average monthly sales for the two products and discuss any observed trends."
   ]
  },
  {
   "cell_type": "code",
   "execution_count": 12,
   "id": "1a29a0b8",
   "metadata": {},
   "outputs": [
    {
     "data": {
      "text/plain": [
       "productA    49.545455\n",
       "productB    42.909091\n",
       "dtype: float64"
      ]
     },
     "execution_count": 12,
     "metadata": {},
     "output_type": "execute_result"
    }
   ],
   "source": [
    "x.mean()"
   ]
  },
  {
   "cell_type": "markdown",
   "id": "35b2b753",
   "metadata": {},
   "source": [
    "2.Find the median sales for each product and discuss how it reflects the central tendency of the sales distribution."
   ]
  },
  {
   "cell_type": "code",
   "execution_count": 13,
   "id": "6b127188",
   "metadata": {},
   "outputs": [
    {
     "data": {
      "text/plain": [
       "productA    40.0\n",
       "productB    42.0\n",
       "dtype: float64"
      ]
     },
     "execution_count": 13,
     "metadata": {},
     "output_type": "execute_result"
    }
   ],
   "source": [
    "x.median()"
   ]
  },
  {
   "cell_type": "markdown",
   "id": "c30d780c",
   "metadata": {},
   "source": [
    "3. Identify the mode of the sales data for both Product A and Product B. Discuss the significance of the mode in the context of these products."
   ]
  },
  {
   "cell_type": "code",
   "execution_count": 14,
   "id": "cd481915",
   "metadata": {},
   "outputs": [
    {
     "data": {
      "text/html": [
       "<div>\n",
       "<style scoped>\n",
       "    .dataframe tbody tr th:only-of-type {\n",
       "        vertical-align: middle;\n",
       "    }\n",
       "\n",
       "    .dataframe tbody tr th {\n",
       "        vertical-align: top;\n",
       "    }\n",
       "\n",
       "    .dataframe thead th {\n",
       "        text-align: right;\n",
       "    }\n",
       "</style>\n",
       "<table border=\"1\" class=\"dataframe\">\n",
       "  <thead>\n",
       "    <tr style=\"text-align: right;\">\n",
       "      <th></th>\n",
       "      <th>productA</th>\n",
       "      <th>productB</th>\n",
       "    </tr>\n",
       "  </thead>\n",
       "  <tbody>\n",
       "    <tr>\n",
       "      <th>0</th>\n",
       "      <td>25.0</td>\n",
       "      <td>22</td>\n",
       "    </tr>\n",
       "    <tr>\n",
       "      <th>1</th>\n",
       "      <td>35.0</td>\n",
       "      <td>32</td>\n",
       "    </tr>\n",
       "    <tr>\n",
       "      <th>2</th>\n",
       "      <td>40.0</td>\n",
       "      <td>42</td>\n",
       "    </tr>\n",
       "    <tr>\n",
       "      <th>3</th>\n",
       "      <td>NaN</td>\n",
       "      <td>52</td>\n",
       "    </tr>\n",
       "  </tbody>\n",
       "</table>\n",
       "</div>"
      ],
      "text/plain": [
       "   productA  productB\n",
       "0      25.0        22\n",
       "1      35.0        32\n",
       "2      40.0        42\n",
       "3       NaN        52"
      ]
     },
     "execution_count": 14,
     "metadata": {},
     "output_type": "execute_result"
    }
   ],
   "source": [
    "x.mode()"
   ]
  },
  {
   "cell_type": "markdown",
   "id": "89b2dd29",
   "metadata": {},
   "source": [
    "4. Calculate the weighted mean of the sales data, assuming each month has an equal weight. Discuss any implications of using weighted mean in this context."
   ]
  },
  {
   "cell_type": "code",
   "execution_count": 25,
   "id": "45cbb31e",
   "metadata": {},
   "outputs": [
    {
     "name": "stdout",
     "output_type": "stream",
     "text": [
      "weighted mean for productA:\n",
      "49.54545454545455\n",
      "weighted mean for productB:\n",
      "49.54545454545455\n"
     ]
    }
   ],
   "source": [
    "print('weighted mean for productA:',x['productA'].sum()/len(x['productA']),\n",
    "      'weighted mean for productB:',x['productA'].sum()/len(x['productB']),sep='\\n')"
   ]
  },
  {
   "cell_type": "code",
   "execution_count": 26,
   "id": "9afb7ae8",
   "metadata": {},
   "outputs": [
    {
     "data": {
      "text/plain": [
       "productA    49.545455\n",
       "productB    42.909091\n",
       "dtype: float64"
      ]
     },
     "execution_count": 26,
     "metadata": {},
     "output_type": "execute_result"
    }
   ],
   "source": [
    "avg_A,avg_B=np.average(x['productA']),np.average(x['productB'])\n",
    "pd.Series({'productA':avg_A,'productB':avg_B})"
   ]
  },
  {
   "cell_type": "code",
   "execution_count": 34,
   "id": "d59d8e54",
   "metadata": {},
   "outputs": [
    {
     "data": {
      "text/plain": [
       "productA    49.545455\n",
       "productB    42.909091\n",
       "dtype: float64"
      ]
     },
     "execution_count": 34,
     "metadata": {},
     "output_type": "execute_result"
    }
   ],
   "source": [
    "pd.Series({'productA':np.average(x['productA']),'productB':np.average(x['productB'])})"
   ]
  },
  {
   "cell_type": "markdown",
   "id": "e7f4e519",
   "metadata": {},
   "source": [
    "## Measures of Dispersion:"
   ]
  },
  {
   "cell_type": "markdown",
   "id": "97278f5b",
   "metadata": {},
   "source": [
    "1.Compute the range of monthly sales for both Product A and Product B. Discuss how the range provides insights into the variability of sales."
   ]
  },
  {
   "cell_type": "code",
   "execution_count": 35,
   "id": "0492a121",
   "metadata": {},
   "outputs": [
    {
     "data": {
      "text/plain": [
       "productA    60\n",
       "productB    80\n",
       "dtype: int64"
      ]
     },
     "execution_count": 35,
     "metadata": {},
     "output_type": "execute_result"
    }
   ],
   "source": [
    "x.max()-x.min()"
   ]
  },
  {
   "cell_type": "markdown",
   "id": "52d47c42",
   "metadata": {},
   "source": [
    "2. Calculate the variance of the sales data for both products. Discuss what the variance reveals about the spread of sales for each product."
   ]
  },
  {
   "cell_type": "code",
   "execution_count": 37,
   "id": "55110e39",
   "metadata": {},
   "outputs": [
    {
     "data": {
      "text/plain": [
       "productA    467.272727\n",
       "productB    549.090909\n",
       "dtype: float64"
      ]
     },
     "execution_count": 37,
     "metadata": {},
     "output_type": "execute_result"
    }
   ],
   "source": [
    "x.var()"
   ]
  },
  {
   "cell_type": "markdown",
   "id": "b2cec1ca",
   "metadata": {},
   "source": [
    "3. Determine the standard deviation of the sales for Product A and Product B. Discuss the significance of standard deviation in understanding the variability in sales."
   ]
  },
  {
   "cell_type": "code",
   "execution_count": 38,
   "id": "99082631",
   "metadata": {},
   "outputs": [
    {
     "data": {
      "text/plain": [
       "productA    21.616492\n",
       "productB    23.432689\n",
       "dtype: float64"
      ]
     },
     "execution_count": 38,
     "metadata": {},
     "output_type": "execute_result"
    }
   ],
   "source": [
    "x.std()"
   ]
  },
  {
   "cell_type": "markdown",
   "id": "1ab7dc1b",
   "metadata": {},
   "source": [
    "## Relative Measures of Dispersion:"
   ]
  },
  {
   "cell_type": "markdown",
   "id": "cbb2b5f4",
   "metadata": {},
   "source": [
    "1. Calculate the coefficient of variation for the sales data of Product A&b. Discuss how this relative measure of dispersion helps in comparing the variability of products with different average sales."
   ]
  },
  {
   "cell_type": "code",
   "execution_count": 40,
   "id": "0cb347b9",
   "metadata": {},
   "outputs": [
    {
     "data": {
      "text/plain": [
       "productA    41.599208\n",
       "dtype: float64"
      ]
     },
     "execution_count": 40,
     "metadata": {},
     "output_type": "execute_result"
    }
   ],
   "source": [
    "pd.Series({'productA':np.std(x['productA'])/np.mean(x['productA'])*100})"
   ]
  },
  {
   "cell_type": "code",
   "execution_count": 41,
   "id": "9c74bc60",
   "metadata": {},
   "outputs": [
    {
     "data": {
      "text/plain": [
       "productB    52.068668\n",
       "dtype: float64"
      ]
     },
     "execution_count": 41,
     "metadata": {},
     "output_type": "execute_result"
    }
   ],
   "source": [
    "pd.Series({'productB':np.std(x['productB'])/np.mean(x['productB'])*100})"
   ]
  },
  {
   "cell_type": "markdown",
   "id": "1b03bd2d",
   "metadata": {},
   "source": [
    "2. Compute the relative range for Product A&B. Discuss how the relative range accounts for the scale of the sales data."
   ]
  },
  {
   "cell_type": "code",
   "execution_count": 43,
   "id": "c00f61fe",
   "metadata": {},
   "outputs": [
    {
     "data": {
      "text/plain": [
       "0    34.541284\n",
       "dtype: float64"
      ]
     },
     "execution_count": 43,
     "metadata": {},
     "output_type": "execute_result"
    }
   ],
   "source": [
    "pd.Series(x['productA'].max()-x['productA'].min()/np.mean(x['productA'])*100)"
   ]
  },
  {
   "cell_type": "code",
   "execution_count": 42,
   "id": "89e99fd1",
   "metadata": {},
   "outputs": [
    {
     "data": {
      "text/plain": [
       "0    64.033898\n",
       "dtype: float64"
      ]
     },
     "execution_count": 42,
     "metadata": {},
     "output_type": "execute_result"
    }
   ],
   "source": [
    "pd.Series(x['productB'].max()-x['productB'].min()/np.mean(x['productB'])*100)"
   ]
  },
  {
   "cell_type": "markdown",
   "id": "680040e3",
   "metadata": {},
   "source": [
    "3. Determine the relative standard deviation for Product A. Interpret the result and discuss its implications for understanding the variability relative to the mean."
   ]
  },
  {
   "cell_type": "code",
   "execution_count": 44,
   "id": "5a7a2c16",
   "metadata": {},
   "outputs": [
    {
     "data": {
      "text/plain": [
       "0    43.629617\n",
       "dtype: float64"
      ]
     },
     "execution_count": 44,
     "metadata": {},
     "output_type": "execute_result"
    }
   ],
   "source": [
    "pd.Series((x['productA'].std())/np.mean(x['productA'])*100)"
   ]
  }
 ],
 "metadata": {
  "kernelspec": {
   "display_name": "Python 3 (ipykernel)",
   "language": "python",
   "name": "python3"
  },
  "language_info": {
   "codemirror_mode": {
    "name": "ipython",
    "version": 3
   },
   "file_extension": ".py",
   "mimetype": "text/x-python",
   "name": "python",
   "nbconvert_exporter": "python",
   "pygments_lexer": "ipython3",
   "version": "3.11.5"
  }
 },
 "nbformat": 4,
 "nbformat_minor": 5
}
