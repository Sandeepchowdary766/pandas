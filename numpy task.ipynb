{
 "cells": [
  {
   "cell_type": "markdown",
   "id": "e68f6027",
   "metadata": {},
   "source": [
    "## Problem-Solving with NumPy\n"
   ]
  },
  {
   "cell_type": "markdown",
   "id": "e08a3f75",
   "metadata": {},
   "source": [
    "#### 1. Write a function, foo_1, that takes a NumPy array `arr` and returns the indices of the elements that are closest to a given target. If target is not in the given array, it should return ‘no item found’\n",
    "\n",
    "`Input`:\n",
    "arr = np.array([3, 8, 7, 7, 7, 7, 7, 8, 7, 10])\n",
    "target = 7\n",
    "foo_1(arr, target)\n",
    "\n",
    "`Output`:\n",
    "[2 3 4 5 6 8 7 1 9 0]\n",
    "\n",
    "`Input`:\n",
    "arr = np.array([3, 8, 7, 7, 7, 7, 7, 8, 7, 10])\n",
    "target = 11\n",
    "foo_1(arr, target)\n",
    "\n",
    "`Output`:\n",
    "’no item found’\n"
   ]
  },
  {
   "cell_type": "code",
   "execution_count": 39,
   "id": "8841e4fa",
   "metadata": {},
   "outputs": [],
   "source": [
    "import numpy as np"
   ]
  },
  {
   "cell_type": "code",
   "execution_count": 41,
   "id": "c9f69ead",
   "metadata": {},
   "outputs": [
    {
     "name": "stdout",
     "output_type": "stream",
     "text": [
      "no item found\n"
     ]
    }
   ],
   "source": [
    "def foo_1(arr, target):\n",
    "    if target not in arr:\n",
    "        return 'no item found'\n",
    "    \n",
    "    indices = np.abs(arr - target).argmin()\n",
    "    return indices\n",
    "arr = np.array([1, 3, 5, 7,8,6,7,7,3,8,3,7, 9])\n",
    "target = 11\n",
    "result = foo_1(arr, target)\n",
    "print(result)"
   ]
  },
  {
   "cell_type": "markdown",
   "id": "c76ef7be",
   "metadata": {},
   "source": [
    "#### 2. Write a user defined function foo_2 that takes a 1 or 2 dim NumPy array arr and returns a new n-1 dim array, where each element is replaced by the count of non-zero elements wrt axis.\n",
    "Input`:\n",
    "arr = np.array([[1, 2, 3, 4],\n",
    "                [0, 5, 0, 0],\n",
    "                [2, 0, 1, 0]])\n",
    "foo_2(arr, axis = 0)\n",
    "\n",
    "`Output`:\n",
    "[4 1 2]\n",
    "\n",
    "\n",
    "foo_2(arr, axis = 1)\n",
    "`Output`:\n",
    "[2 2 2 1]\n",
    "\n",
    "\n",
    "arr1 = np.array([[1, 2, 3, 4],\n",
    "                [0, 5, 0, 0],\n",
    "                [2, 0, 1, 0]],\n",
    "\n",
    "                [[2, 0, 1, 0],\n",
    "                 [0, 5, 0, 0],\n",
    "                 [1, 2, 3, 4]])\n",
    "\n",
    "foo_2(arr1 , axis = 0)\n",
    "\n",
    "`Output`:\n",
    "[[7],\n",
    "[7]]\n",
    "\n",
    "foo_2(arr1 , axis = 1)\n",
    "\n",
    "`Output`:\n",
    "[[4 1 2],\n",
    "[2 1 4]]\n",
    "\n",
    "foo_2(arr1 , axis = 2)\n",
    "`Output`:\n",
    "[[2 2 2 1],\n",
    "[2 2 2 1]]\n"
   ]
  },
  {
   "cell_type": "code",
   "execution_count": 42,
   "id": "a29b74b7",
   "metadata": {},
   "outputs": [],
   "source": [
    "def foo_2(arr, axis):\n",
    "    if arr.ndim != 2:\n",
    "        print(\"Input array must be 2-dimensional\")\n",
    "    else:\n",
    "        x=np.where(arr != 0, 1, 0)\n",
    "        counts=np.sum(x,axis=axis)\n",
    "        return counts\n",
    "def foo_3(arr, axis):\n",
    "    if arr.ndim != 3:\n",
    "        print(\"Input array must be 3-dimensional\")\n",
    "    else:\n",
    "        x=np.where(arr != 0, 1, 0)\n",
    "        counts=np.sum(x,axis=axis)\n",
    "        return counts"
   ]
  },
  {
   "cell_type": "code",
   "execution_count": 43,
   "id": "521a60fc",
   "metadata": {},
   "outputs": [
    {
     "data": {
      "text/plain": [
       "array([2, 2, 2, 1])"
      ]
     },
     "execution_count": 43,
     "metadata": {},
     "output_type": "execute_result"
    }
   ],
   "source": [
    "arr=np.array([[1,2,3,4],[0,5,0,0],[2,0,1,0]])\n",
    "foo_2(arr,axis=0)"
   ]
  },
  {
   "cell_type": "markdown",
   "id": "11f9f8a4",
   "metadata": {},
   "source": [
    "#### 3. 1 You are given a 2D NumPy array of data representing student scores. Each row represents a student, and each column represents a subject. Extract the scores of all students who scored above 90 in at least one subject. Provide the resulting array\n",
    "\n",
    "   data=np.array([[85,89,88],\n",
    "                 [78,89,94],\n",
    "                 [91,87,90],\n",
    "                 [87,95,84]])"
   ]
  },
  {
   "cell_type": "code",
   "execution_count": 44,
   "id": "acb07e75",
   "metadata": {},
   "outputs": [
    {
     "data": {
      "text/plain": [
       "array([[85, 88, 89],\n",
       "       [78, 89, 94],\n",
       "       [91, 87, 90],\n",
       "       [87, 95, 84]])"
      ]
     },
     "execution_count": 44,
     "metadata": {},
     "output_type": "execute_result"
    }
   ],
   "source": [
    "data=np.array([[85,88,89],[78,89,94],[91,87,90],[87,95,84]])\n",
    "data"
   ]
  },
  {
   "cell_type": "code",
   "execution_count": 45,
   "id": "2f210e1c",
   "metadata": {},
   "outputs": [
    {
     "name": "stdout",
     "output_type": "stream",
     "text": [
      "stu who scored grater than 90:\n",
      "[[78 89 94]\n",
      " [91 87 90]\n",
      " [87 95 84]]\n"
     ]
    }
   ],
   "source": [
    "def foo_2(array):\n",
    "    x=np.any(data>90,axis=1)\n",
    "    result=array[x]\n",
    "    print('stu who scored grater than 90:')\n",
    "    print(result)\n",
    "foo_2(data)"
   ]
  },
  {
   "cell_type": "markdown",
   "id": "b6cd482e",
   "metadata": {},
   "source": [
    "#### 3. 2 You are provided with a 2D NumPy array of data representing sales data for different products. Each row corresponds to a product, and each column represents the monthly sales for a specific month. Calculate the following statistics for each product: mean, median, standard deviation, and the month with the highest sales.\n",
    "\n",
    "      data=np.array([[120,150,130,110],\n",
    "                     [200,180,220,250],\n",
    "                     [90,100,95,110],\n",
    "                     [300,280,320,340]])\n"
   ]
  },
  {
   "cell_type": "code",
   "execution_count": 46,
   "id": "54fde019",
   "metadata": {},
   "outputs": [
    {
     "data": {
      "text/plain": [
       "array([[120, 150, 130, 110],\n",
       "       [200, 180, 220, 250],\n",
       "       [ 90, 100,  95, 110],\n",
       "       [300, 280, 320, 340]])"
      ]
     },
     "execution_count": 46,
     "metadata": {},
     "output_type": "execute_result"
    }
   ],
   "source": [
    "data=np.array([[120,150,130,110],[200,180,220,250],[90,100,95,110],[300,280,320,340]])\n",
    "data"
   ]
  },
  {
   "cell_type": "code",
   "execution_count": 47,
   "id": "9e5f793d",
   "metadata": {},
   "outputs": [
    {
     "name": "stdout",
     "output_type": "stream",
     "text": [
      "the mean of product1 is: 127.5\n",
      "the mean of product2 is: 212.5\n",
      "the mean of product3 is: 98.75\n",
      "the mean of product4 is: 310.0\n"
     ]
    }
   ],
   "source": [
    "product1=data[0,:]\n",
    "product2=data[1,:]\n",
    "product3=data[2,:]\n",
    "product4=data[3,:]\n",
    "\n",
    "print(f'the mean of product1 is: {np.mean(product1)}')\n",
    "print(f'the mean of product2 is: {np.mean(product2)}')\n",
    "print(f'the mean of product3 is: {np.mean(product3)}')\n",
    "print(f'the mean of product4 is: {np.mean(product4)}')"
   ]
  },
  {
   "cell_type": "code",
   "execution_count": 48,
   "id": "4e722626",
   "metadata": {},
   "outputs": [
    {
     "name": "stdout",
     "output_type": "stream",
     "text": [
      "the median of product1 is: 125.0\n",
      "the median of product2 is: 210.0\n",
      "the median of product3 is: 97.5\n",
      "the median of product4 is: 310.0\n"
     ]
    }
   ],
   "source": [
    "print(f'the median of product1 is: {np.median(product1)}')\n",
    "print(f'the median of product2 is: {np.median(product2)}')\n",
    "print(f'the median of product3 is: {np.median(product3)}')\n",
    "print(f'the median of product4 is: {np.median(product4)}')"
   ]
  },
  {
   "cell_type": "code",
   "execution_count": 49,
   "id": "478f9514",
   "metadata": {},
   "outputs": [
    {
     "name": "stdout",
     "output_type": "stream",
     "text": [
      "the std of product1 is: 14.79019945774904\n",
      "the std of product2 is: 25.8602010819715\n",
      "the std of product3 is: 7.39509972887452\n",
      "the std of product4 is: 22.360679774997898\n"
     ]
    }
   ],
   "source": [
    "print(f'the std of product1 is: {np.std(product1)}')\n",
    "print(f'the std of product2 is: {np.std(product2)}')\n",
    "print(f'the std of product3 is: {np.std(product3)}')\n",
    "print(f'the std of product4 is: {np.std(product4)}')"
   ]
  },
  {
   "cell_type": "code",
   "execution_count": 50,
   "id": "0e988a7a",
   "metadata": {},
   "outputs": [
    {
     "name": "stdout",
     "output_type": "stream",
     "text": [
      "1stmonth of sale:710\n",
      "2ndmonth of sale:710\n",
      "3rdmonth of sale:765\n",
      "4thmonth of sale:810\n"
     ]
    }
   ],
   "source": [
    "fst_mnth=data[:,0]\n",
    "scnd_mnth=data[:,1]\n",
    "thrd_mnth=data[:,2]\n",
    "frth_mnth=data[:,3]\n",
    "\n",
    "print(f'1stmonth of sale:{np.sum(fst_mnth)}')\n",
    "print(f'2ndmonth of sale:{np.sum(scnd_mnth)}')\n",
    "print(f'3rdmonth of sale:{np.sum(thrd_mnth)}')\n",
    "print(f'4thmonth of sale:{np.sum(frth_mnth)}')"
   ]
  },
  {
   "cell_type": "markdown",
   "id": "d3bb4351",
   "metadata": {},
   "source": [
    "#### 3. 3 Create a NumPy array of size 1000 with random integers between 1 and 100. Then, use NumPy functions to find the top 10 most frequently occurring values in the array.\n",
    "\n"
   ]
  },
  {
   "cell_type": "code",
   "execution_count": 51,
   "id": "5358ceb1",
   "metadata": {},
   "outputs": [
    {
     "name": "stdout",
     "output_type": "stream",
     "text": [
      "[24 34 84 24 98 94 59 51 85 51 53 14 83 24  3 73 70 89 66 50 25 43 72  8\n",
      " 62 95 15 93 49 12 72 65 36 86  9 16 80 17 62 76 94 65 65 41 65 64  4 93\n",
      "  4 90 18 95 78 43 37 67 74 54 88 11 34 15 23  7 83 18 37 62 93  7 38  7\n",
      "  8 56 76 51 72 20 24 22 22 48  9 13 37  6  2 87  1 13 14 26 67 87 34  9\n",
      " 53 19 59 22 66 12 54 37 59 73 40 78 68 21  4 61 61 88 19 69  1 94 24 11\n",
      " 35 35 55 89 76 15 10 53 64 81 12 91 17 67 43 33 59  7  5 51 31 47 95 57\n",
      " 82 64 68  7  4 76  6 53 62 63 65 31 84 14 70 42 71 17 18 57 33 68 61 28\n",
      " 85 62 40 38 16 47 95 46 62 11 96 51 96 20 57 80 12 94 30 98 52 72 26  3\n",
      " 54 74 19 48 38 96 82 34 89  1 32 98 37 60 65 56 52 58 54 31 59 27  1 32\n",
      " 91 67 81 50 36 42 98 39 19 20 68 12 39 46 50 76 85 42 80 72 53 20 98 77\n",
      " 81  6 34 84 59 25 37 94 88  5 31 51 74 63 58 15 78  7 52 43 58 31 42 48\n",
      " 79 54 29  2 96 52 47 34 94 17 84 96 57 85 40 47 68 69 24 54 79 38  8 97\n",
      " 21 10 97 88 49 71 56 22 81 59 71 57 95 21 70 73 79 30 19 15 49 27  5 51\n",
      " 55 39 64  1 89 54 76 94 75 28 12 57 52 51 24 54 97 65 69 81 90  2 69 54\n",
      " 27 85 17 49 83 77 29 16 16 44 26 18 94 52 23 28 37 69 88 46 64 61 36 14\n",
      " 74 12 93 21 50 70 36 56 22 59 19 40 58 66 72 64 46 51 40 79 20 43 92 14\n",
      " 52 14 76 76 64 24 24 12 22 60 37 59 90 35 24 29 14  5 10 10 63 86 32 16\n",
      " 73 35 93 82 23  7 47 20 37 78  9 54 82  1  5 64 40 39 85 16 56 65 96 94\n",
      " 82 64  4 19 49 32 86 86 89 80 19 47 79 66 20 19 79 92 28  9 42 43 19 86\n",
      " 56 23 53 57  1 94 90 73 31  5 69 40 60 78 51  4 96  2 37 19 77 61 52 30\n",
      " 93 19 90 54 34 43 99 77 28 24 65 19 52 34 85 59 47 28 35 12 43 64 55 10\n",
      " 60 80  3 15 40 40 70  7  7  1 53  7 79 56 12 11 82 68  4 27 67 58 88 60\n",
      " 13 25 22 28 57 28 71 42 39 70 45 79 29  6 11 60 20 59 39 39 43 52 82 61\n",
      " 59 33 84 52 92 43 53 18 46 39 45 55 67 35 47 65 60 63 52 92 85 21 42 74\n",
      " 39 52 28 95 57 36 52  3 18 75 42 83 77 72 83 82 73 46 50 82 26 76 42 94\n",
      "  5 23 96 40 45 55 75 65  2 64 80 76  1 22 71 48 11 36 53 48 46 98 35 43\n",
      " 66 18  1  8 82 20 97 75  8 86 95 70  7 34 12 16  1 12 26 26 59 51 88 58\n",
      " 91 19 69 50 49 97 72 98  4  6 11 20 86  7 75 56 85 26 96 77 74 18 81 97\n",
      " 93 90 58 44 72 24 31 77 74 89 56 47 82 86 81 96  9 10 19 83 83 67  2 84\n",
      " 12 35 67 68 53 20 33 52 22 41 95 84 88 57 77  1  7 65 83 31 36 84 46 68\n",
      " 62 37 17 22 69 23 54  8  2 20 42 76 85 78 85 89 31 65 78 89  8 16 59 17\n",
      " 30 77 97 71 32 30 45 31 92 43 83 21 88 88 42 51 48 90  5 73 89 44 25 72\n",
      " 83 48 67 92  3  1 29 64 87 24 21 48 76  4 36  6 16 37 58 53 77  6 94 83\n",
      " 14 78 60 26 92 97 30 76 77  5 95 25 33 47 45 95 35  3 70 60 23 80  1 50\n",
      " 26 67 10 91 14 27 12 18 23 63 39 27 29 37 55 60 93 74 60 91 23 76  5 87\n",
      " 87 12 32 12 19 84 23 83  5 16 59 19 20 77 49 15 56 98 89 88 65 64 77 38\n",
      " 47 52 39  9 59 82 24 16 79 17 71 44 68 79 64 23  1 58 81 14 93  5 32 11\n",
      " 78  5  5 26 32 70 20 39 77 55  4 72 31 78 33  1 26 53 17 62 65 24  2 60\n",
      " 75  7 90 77 55 28 20 52 53 89 19 77 79 84 91 49 65 30 28 66 99 55 66 65\n",
      "  3 70 55 91  4 20 84 66 41 39 88 91 64 13 73 16 81  2 98 54 45 70 67  9\n",
      " 93 42 39 24  1 43 57 90 85 60 86 58 65 32  8 51 49 73 44 47 47 79 85 68\n",
      " 60 69 42 29 20 23 49 70 24 39 49 40 23  3 45 76]\n"
     ]
    }
   ],
   "source": [
    "array=np.random.randint(1,100,size=1000)\n",
    "print(array)"
   ]
  },
  {
   "cell_type": "code",
   "execution_count": 52,
   "id": "dbae7e4e",
   "metadata": {},
   "outputs": [],
   "source": [
    "unique_values, counts = np.unique(array, return_counts=1)\n",
    "\n",
    "sorted_indices = np.argsort(counts)[::-1]\n",
    "\n",
    "top_values = unique_values[sorted_indices[:10]]\n",
    "top_counts = counts[sorted_indices[:10]]\n"
   ]
  },
  {
   "cell_type": "code",
   "execution_count": 53,
   "id": "a5843846",
   "metadata": {},
   "outputs": [
    {
     "name": "stdout",
     "output_type": "stream",
     "text": [
      "Top 10 most frequently occurring values:\n",
      "19: 18 occurrences\n",
      "65: 18 occurrences\n",
      "24: 17 occurrences\n",
      "52: 17 occurrences\n",
      "20: 17 occurrences\n",
      "1: 17 occurrences\n",
      "12: 16 occurrences\n",
      "59: 16 occurrences\n",
      "77: 16 occurrences\n",
      "64: 15 occurrences\n"
     ]
    }
   ],
   "source": [
    "print(\"Top 10 most frequently occurring values:\")\n",
    "for value, count in zip(top_values, top_counts):\n",
    "    print(f\"{value}: {count} occurrences\")"
   ]
  }
 ],
 "metadata": {
  "kernelspec": {
   "display_name": "Python 3 (ipykernel)",
   "language": "python",
   "name": "python3"
  },
  "language_info": {
   "codemirror_mode": {
    "name": "ipython",
    "version": 3
   },
   "file_extension": ".py",
   "mimetype": "text/x-python",
   "name": "python",
   "nbconvert_exporter": "python",
   "pygments_lexer": "ipython3",
   "version": "3.11.5"
  }
 },
 "nbformat": 4,
 "nbformat_minor": 5
}
